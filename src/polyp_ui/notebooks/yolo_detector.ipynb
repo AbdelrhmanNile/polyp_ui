{
  "nbformat": 4,
  "nbformat_minor": 0,
  "metadata": {
    "colab": {
      "provenance": [],
      "gpuType": "T4"
    },
    "kernelspec": {
      "name": "python3",
      "display_name": "Python 3"
    },
    "language_info": {
      "name": "python"
    },
    "accelerator": "GPU"
  },
  "cells": [
    {
      "cell_type": "code",
      "execution_count": null,
      "metadata": {
        "id": "ujnGEGTiZykM"
      },
      "outputs": [],
      "source": [
        "!pip install ultralytics -qq\n",
        "!pip install roboflow -qq"
      ]
    },
    {
      "cell_type": "code",
      "source": [
        "from roboflow import Roboflow\n",
        "rf = Roboflow(api_key=\"AMnakzLsbSGIDzW4ltRt\")\n",
        "project = rf.workspace(\"teste-mhypc\").project(\"kvasir-seg-detect\")\n",
        "version = project.version(3)\n",
        "dataset = version.download(\"yolov8\")"
      ],
      "metadata": {
        "id": "OpJAKaaRZ8NZ"
      },
      "execution_count": null,
      "outputs": []
    },
    {
      "cell_type": "code",
      "source": [
        "from ultralytics import YOLO\n",
        "model = YOLO('yolov9m.pt')"
      ],
      "metadata": {
        "id": "SxH1cmFhbrr6"
      },
      "execution_count": null,
      "outputs": []
    },
    {
      "cell_type": "code",
      "source": [
        "%cd /content/datasets/Kvasir-SEG-detect-3\n",
        "results = model.train(data='data.yaml', epochs=20, imgsz=256, project=\"/content/runs\")"
      ],
      "metadata": {
        "id": "R-ZXVsupdKW5"
      },
      "execution_count": null,
      "outputs": []
    },
    {
      "cell_type": "code",
      "source": [
        "results"
      ],
      "metadata": {
        "id": "LHlHWIRodhMY"
      },
      "execution_count": null,
      "outputs": []
    },
    {
      "cell_type": "code",
      "source": [
        "!zip -r /content/yolo8.zip /content/runs"
      ],
      "metadata": {
        "id": "MG-KozElf50B"
      },
      "execution_count": null,
      "outputs": []
    },
    {
      "cell_type": "code",
      "source": [],
      "metadata": {
        "id": "nTUsCRzolyd-"
      },
      "execution_count": null,
      "outputs": []
    }
  ]
}